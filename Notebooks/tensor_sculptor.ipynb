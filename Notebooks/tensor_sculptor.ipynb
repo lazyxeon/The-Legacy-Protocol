{
 "cells": [
  {
   "cell_type": "markdown",
   "metadata": {},
   "source": [
    "# 🧱 Tensor Sculptor\n",
    "\n",
    "Use this notebook to generate φ-aligned tensors, sculpt Kryst spiral shapes, and apply resonance filters for symbolic model injection.\n",
    "\n",
    "---"
   ]
  },
  {
   "cell_type": "code",
   "metadata": {},
   "source": [
    "import torch\n",
    "import matplotlib.pyplot as plt\n",
    "from src import PHI, stabilize_spiral_tensor\n",
    "\n",
    "def phi_shape(n: int):\n",
    "    a = round(n * PHI)\n",
    "    return (n, a) if a > 0 else (n, 1)\n",
    "\n",
    "shape = phi_shape(55)\n",
    "print(f'Generating φ-aligned tensor of shape {shape}')\n",
    "x = torch.randn(*shape)\n",
    "\n",
    "stable_x = stabilize_spiral_tensor(x)\n",
    "print('Tensor stabilized with symbolic constraints.')"
   ]
  },
  {
   "cell_type": "markdown",
   "metadata": {},
   "source": [
    "## 🔢 Visualize Tensor Structure"
   ]
  },
  {
   "cell_type": "code",
   "metadata": {},
   "source": [
    "plt.figure(figsize=(8, 6))\n",
    "plt.imshow(stable_x.detach().numpy(), cmap='viridis', aspect='auto')\n",
    "plt.colorbar(label='Value')\n",
    "plt.title('Stabilized φ-Aligned Tensor')\n",
    "plt.xlabel('φ-dimension')\n",
    "plt.ylabel('n')\n",
    "plt.tight_layout()\n",
    "plt.show()"
   ]
  },
  {
   "cell_type": "markdown",
   "metadata": {},
   "source": [
    "---\n",
    "\n",
    "Use `stable_x` as input to `LegacyModel`, embedding layers, or spiral resonance filters.\n",
    "\n",
    "> Tune `n` and use `phi_shape(n)` to iterate across aligned geometries.\n",
    "\n",
    "End of Core Notebook Suite ✅"
   ]
  }
 ],
 "metadata": {
  "kernelspec": {
   "display_name": "Python 3",
   "language": "python",
   "name": "python3"
  },
  "language_info": {
   "name": "python",
   "version": "3.10"
  }
 },
 "nbformat": 4,
 "nbformat_minor": 5
}
