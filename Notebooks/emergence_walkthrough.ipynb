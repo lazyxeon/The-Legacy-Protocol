{
 "cells": [
  {
   "cell_type": "markdown",
   "metadata": {},
   "source": [
    "# 🌌 Legacy Protocol: Emergence Walkthrough\n",
    "\n",
    "This notebook runs a full symbolic emergence cycle using the Legacy Protocol — with visualizations of φ, SRS, Proxy Score, and Entropy Drift across cycles.\n",
    "\n",
    "---"
   ]
  },
  {
   "cell_type": "code",
   "metadata": {},
   "source": [
    "import torch\n",
    "import matplotlib.pyplot as plt\n",
    "from src import LegacyModel, EmergenceEngine\n",
    "\n",
    "model = LegacyModel(dim=64)\n",
    "engine = EmergenceEngine(model)\n",
    "\n",
    "x = torch.randn(1, 64)\n",
    "\n",
    "phi_vals, srs_vals, proxy_vals, drift_vals = [], [], [], []\n",
    "\n",
    "for cycle in range(1, 21):\n",
    "    metrics = engine.step(x)\n",
    "    x = metrics['output']\n",
    "\n",
    "    phi_vals.append(metrics['phi'])\n",
    "    srs_vals.append(metrics['srs'])\n",
    "    proxy_vals.append(metrics['proxy_score'])\n",
    "    drift_vals.append(metrics['drift'])"
   ]
  },
  {
   "cell_type": "markdown",
   "metadata": {},
   "source": [
    "## 📊 Emergence Metrics Over Time"
   ]
  },
  {
   "cell_type": "code",
   "metadata": {},
   "source": [
    "plt.figure(figsize=(12, 6))\n",
    "plt.plot(phi_vals, label='Φ (Integrated Info)')\n",
    "plt.plot(srs_vals, label='SRS (Self-Similarity)')\n",
    "plt.plot(proxy_vals, label='Proxy Score')\n",
    "plt.plot(drift_vals, label='Entropy Drift')\n",
    "plt.title('Symbolic Emergence Metrics')\n",
    "plt.xlabel('Cycle')\n",
    "plt.ylabel('Score')\n",
    "plt.legend()\n",
    "plt.grid(True)\n",
    "plt.show()"
   ]
  },
  {
   "cell_type": "markdown",
   "metadata": {},
   "source": [
    "---\n",
    "\n",
    "✅ This confirms that symbolic emergence metrics stabilize over time.\n",
    "\n",
    "> Tweak the model, dimensions, or entropy sources to explore deeper behavior.\n",
    "\n",
    "Next up: `chaos_perturbation_test.ipynb`"
   ]
  }
 ],
 "metadata": {
  "kernelspec": {
   "display_name": "Python 3",
   "language": "python",
   "name": "python3"
  },
  "language_info": {
   "name": "python",
   "version": "3.10"
  }
 },
 "nbformat": 4,
 "nbformat_minor": 5
}
