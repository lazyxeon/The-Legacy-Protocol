{
 "cells": [
  {
   "cell_type": "markdown",
   "id": "3a3f34fc",
   "metadata": {},
   "source": [
    "# ✨ Biophoton Coherence Simulation\n",
    "Simulates recursive coherence of biophoton-like pulses in neural-inspired φ-aligned systems."
   ]
  },
  {
   "cell_type": "code",
   "execution_count": null,
   "id": "d5d01322",
   "metadata": {},
   "outputs": [],
   "source": [
    "import numpy as np\n",
    "import matplotlib.pyplot as plt\n",
    "from scipy.signal import hilbert\n",
    "from math import sqrt\n",
    "\n",
    "# φ constant\n",
    "phi = (1 + sqrt(5)) / 2\n",
    "np.random.seed(21)\n",
    "\n",
    "# Create biophoton burst signal with embedded φ modulation\n",
    "t = np.linspace(0, 1, 500)\n",
    "carrier = np.sin(2 * np.pi * 30 * t)  # 30 Hz base frequency\n",
    "envelope = np.exp(-((t - 0.5)**2) / (2 * (0.05)**2))  # Gaussian envelope\n",
    "phi_modulation = np.sin(2 * np.pi * phi * 30 * t)\n",
    "\n",
    "# Composite signal\n",
    "biophoton_signal = envelope * (carrier + 0.4 * phi_modulation)\n",
    "\n",
    "# Add neural jitter noise\n",
    "jitter_noise = np.random.normal(0, 0.15, len(t))\n",
    "signal_with_noise = biophoton_signal + jitter_noise\n"
   ]
  },
  {
   "cell_type": "code",
   "execution_count": null,
   "id": "4e9003d9",
   "metadata": {},
   "outputs": [],
   "source": [
    "# Compute envelope and coherence via Hilbert transform\n",
    "analytic_signal = hilbert(signal_with_noise)\n",
    "amplitude_envelope = np.abs(analytic_signal)\n",
    "instantaneous_phase = np.unwrap(np.angle(analytic_signal))\n",
    "instantaneous_frequency = np.diff(instantaneous_phase) / (2.0 * np.pi * (t[1] - t[0]))\n",
    "\n",
    "# Coherence metric: envelope symmetry + frequency stability\n",
    "envelope_symmetry = 1 - np.std(amplitude_envelope) / np.mean(amplitude_envelope)\n",
    "frequency_stability = 1 - np.std(instantaneous_frequency) / np.mean(np.abs(instantaneous_frequency))\n",
    "\n",
    "coherence_score = (envelope_symmetry + frequency_stability) / 2\n",
    "\n",
    "print(f\"Envelope Symmetry Score: {envelope_symmetry:.4f}\")\n",
    "print(f\"Frequency Stability Score: {frequency_stability:.4f}\")\n",
    "print(f\"Biophoton Coherence Score: {coherence_score:.4f}\")\n"
   ]
  },
  {
   "cell_type": "code",
   "execution_count": null,
   "id": "132f4194",
   "metadata": {},
   "outputs": [],
   "source": [
    "# Plot results\n",
    "plt.figure(figsize=(12, 6))\n",
    "\n",
    "plt.subplot(2, 1, 1)\n",
    "plt.plot(t, signal_with_noise, label='Noisy Biophoton Signal', alpha=0.7)\n",
    "plt.plot(t, amplitude_envelope, label='Hilbert Envelope', color='orange', linewidth=2)\n",
    "plt.title(\"Biophoton Signal with φ Modulation and Neural Noise\")\n",
    "plt.legend()\n",
    "plt.grid(True)\n",
    "\n",
    "plt.subplot(2, 1, 2)\n",
    "plt.plot(t[:-1], instantaneous_frequency, label='Instantaneous Frequency', color='green')\n",
    "plt.title(\"Instantaneous Frequency (Phase Unwrap Derivative)\")\n",
    "plt.grid(True)\n",
    "plt.tight_layout()\n",
    "plt.show()\n"
   ]
  }
 ],
 "metadata": {},
 "nbformat": 4,
 "nbformat_minor": 5
}
