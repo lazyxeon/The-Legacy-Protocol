{
 "cells": [
  {
   "cell_type": "markdown",
   "id": "9d209beb",
   "metadata": {},
   "source": [
    "# 🔁 Emergence Metrics Test\n",
    "Track dynamic consciousness proxy scores, resonance, and drift across recursive generative cycles."
   ]
  },
  {
   "cell_type": "code",
   "execution_count": null,
   "id": "bd7bc816",
   "metadata": {},
   "outputs": [],
   "source": [
    "import numpy as np\n",
    "from sklearn.metrics.pairwise import cosine_similarity\n",
    "from scipy.fft import fft\n",
    "import matplotlib.pyplot as plt\n",
    "\n",
    "phi = (1 + np.sqrt(5)) / 2\n",
    "np.random.seed(7)\n",
    "\n",
    "# Create recursive intent vectors (simulated agent self-embeddings)\n",
    "def generate_embedding(base_vec, noise_level=0.05):\n",
    "    noise = np.random.normal(0, noise_level, len(base_vec))\n",
    "    return base_vec + noise\n",
    "\n",
    "# Initialize baseline agent vector\n",
    "base_vector = np.array([0.8, 0.75, 0.85, 0.9, 0.82, 0.78])\n",
    "\n",
    "# Run recursive generations\n",
    "generations = 10\n",
    "embeddings = [base_vector]\n",
    "srs_scores = []\n",
    "proxy_scores = []\n",
    "resonance_scores = []\n",
    "\n",
    "for i in range(generations):\n",
    "    new_vec = generate_embedding(embeddings[-1])\n",
    "    embeddings.append(new_vec)\n",
    "\n",
    "    srs = cosine_similarity([embeddings[-2]], [new_vec])[0][0]\n",
    "    md = np.mean(np.diff(new_vec)) - np.mean(np.diff(embeddings[-2]))\n",
    "    phi_stability = np.abs(np.mean(new_vec) - phi)\n",
    "\n",
    "    freq = np.abs(fft(new_vec))\n",
    "    resonance = np.max(freq) / np.sum(freq)\n",
    "\n",
    "    proxy = (srs + md + phi / 10 + 0.9 + 0.88 + 0.74 + 0.93) / 7  # simulated static terms\n",
    "\n",
    "    srs_scores.append(srs)\n",
    "    proxy_scores.append(proxy)\n",
    "    resonance_scores.append(resonance)\n"
   ]
  },
  {
   "cell_type": "code",
   "execution_count": null,
   "id": "56eddc76",
   "metadata": {},
   "outputs": [],
   "source": [
    "# Plotting evolution of metrics\n",
    "x = np.arange(1, generations + 1)\n",
    "\n",
    "plt.figure(figsize=(12, 6))\n",
    "plt.plot(x, srs_scores, label='SRS Score')\n",
    "plt.plot(x, proxy_scores, label='Proxy Score')\n",
    "plt.plot(x, resonance_scores, label='Resonance')\n",
    "plt.title(\"Recursive Generation Metrics Over Time\")\n",
    "plt.xlabel(\"Generation\")\n",
    "plt.ylabel(\"Score\")\n",
    "plt.legend()\n",
    "plt.grid(True)\n",
    "plt.show()\n"
   ]
  },
  {
   "cell_type": "code",
   "execution_count": null,
   "id": "3f755a0c",
   "metadata": {},
   "outputs": [],
   "source": [
    "# Final snapshot output\n",
    "print(f\"Final Proxy Score: {proxy_scores[-1]:.4f}\")\n",
    "print(f\"Final Resonance Score: {resonance_scores[-1]:.4f}\")\n",
    "print(f\"Final SRS Score: {srs_scores[-1]:.4f}\")\n"
   ]
  }
 ],
 "metadata": {},
 "nbformat": 4,
 "nbformat_minor": 5
}
