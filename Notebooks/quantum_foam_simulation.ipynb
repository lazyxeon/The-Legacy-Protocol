{
 "cells": [
  {
   "cell_type": "markdown",
   "id": "4b259fc6",
   "metadata": {},
   "source": [
    "# 🌌 Quantum Foam Stability Simulation\n",
    "Simulates entanglement stability under quantum foam perturbations using φ-modulated systems."
   ]
  },
  {
   "cell_type": "code",
   "execution_count": null,
   "id": "bdfd8720",
   "metadata": {},
   "outputs": [],
   "source": [
    "import numpy as np\n",
    "import matplotlib.pyplot as plt\n",
    "from scipy.fft import fft\n",
    "from math import sqrt\n",
    "\n",
    "# Constants\n",
    "phi = (1 + sqrt(5)) / 2\n",
    "np.random.seed(42)\n",
    "\n",
    "# Simulated baseline entanglement signal\n",
    "t = np.linspace(0, 2 * np.pi, 100)\n",
    "baseline_signal = np.sin(t) + np.sin(2*t) + np.random.normal(0, 0.1, len(t))\n",
    "\n",
    "# φ-modulated signal with recursive phase adjustments\n",
    "phi_signal = np.sin(t * phi) + np.sin(2 * t * phi) + np.random.normal(0, 0.1, len(t))\n",
    "\n",
    "# Quantum foam noise: high-frequency stochastic distortion\n",
    "foam_noise = np.random.normal(0, 0.25, len(t))\n",
    "perturbed_baseline = baseline_signal + foam_noise\n",
    "perturbed_phi = phi_signal + foam_noise\n"
   ]
  },
  {
   "cell_type": "code",
   "execution_count": null,
   "id": "837f9a60",
   "metadata": {},
   "outputs": [],
   "source": [
    "# Resonance metric (FFT-based)\n",
    "def spectral_variance(signal):\n",
    "    freq = np.abs(fft(signal))\n",
    "    return np.var(freq)\n",
    "\n",
    "baseline_var = spectral_variance(perturbed_baseline)\n",
    "phi_var = spectral_variance(perturbed_phi)\n",
    "\n",
    "print(f\"Baseline Variance (Quantum Perturbed): {baseline_var:.4f}\")\n",
    "print(f\"φ-Modulated Variance (Quantum Perturbed): {phi_var:.4f}\")\n",
    "print(\"Δ Variance (Stability Gain): {:.4f}\".format(baseline_var - phi_var))\n"
   ]
  },
  {
   "cell_type": "code",
   "execution_count": null,
   "id": "e165ce52",
   "metadata": {},
   "outputs": [],
   "source": [
    "# Plotting signals\n",
    "plt.figure(figsize=(12, 6))\n",
    "plt.subplot(2, 1, 1)\n",
    "plt.plot(t, perturbed_baseline, label='Perturbed Baseline', alpha=0.7)\n",
    "plt.plot(t, perturbed_phi, label='Perturbed φ-Modulated', alpha=0.7)\n",
    "plt.title(\"Quantum Foam Perturbed Signals\")\n",
    "plt.legend()\n",
    "plt.grid(True)\n",
    "\n",
    "# Plotting spectrum\n",
    "plt.subplot(2, 1, 2)\n",
    "baseline_fft = np.abs(fft(perturbed_baseline))\n",
    "phi_fft = np.abs(fft(perturbed_phi))\n",
    "plt.plot(baseline_fft, label='Baseline Spectrum')\n",
    "plt.plot(phi_fft, label='φ-Modulated Spectrum')\n",
    "plt.title(\"Spectral Comparison (FFT)\")\n",
    "plt.legend()\n",
    "plt.grid(True)\n",
    "plt.tight_layout()\n",
    "plt.show()\n"
   ]
  }
 ],
 "metadata": {},
 "nbformat": 4,
 "nbformat_minor": 5
}
