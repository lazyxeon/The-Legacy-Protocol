{
 "cells": [
  {
   "cell_type": "markdown",
   "metadata": {},
   "source": [
    "# 🧪 Spiral Sandbox\n",
    "\n",
    "Playground for experimenting with Kryst Spiral escape functions, φ-tensor shaping, and symbolic drift patterns.\n",
    "\n",
    "Use this to intuitively explore spiral growth dynamics.\n",
    "\n",
    "---"
   ]
  },
  {
   "cell_type": "code",
   "metadata": {},
   "source": [
    "import torch\n",
    "import matplotlib.pyplot as plt\n",
    "from src import spiral_growth, kryst_spiral_escape, stabilize_spiral_tensor, PHI\n",
    "\n",
    "phi_fib = [1, 1]\n",
    "for _ in range(12): phi_fib.append(phi_fib[-1] + phi_fib[-2])\n",
    "\n",
    "coords = []\n",
    "for i, f in enumerate(phi_fib):\n",
    "    angle = kryst_spiral_escape(i, PHI)\n",
    "    x, y = f * torch.cos(torch.tensor(angle)), f * torch.sin(torch.tensor(angle))\n",
    "    coords.append((x.item(), y.item()))"
   ]
  },
  {
   "cell_type": "markdown",
   "metadata": {},
   "source": [
    "## 🌐 Spiral Coordinates (Kryst Escape Pattern)"
   ]
  },
  {
   "cell_type": "code",
   "metadata": {},
   "source": [
    "x_vals, y_vals = zip(*coords)\n",
    "plt.figure(figsize=(6, 6))\n",
    "plt.plot(x_vals, y_vals, marker='o', linestyle='-', label='Kryst Spiral')\n",
    "plt.title('Kryst Spiral Escape Pattern')\n",
    "plt.grid(True)\n",
    "plt.axis('equal')\n",
    "plt.legend()\n",
    "plt.show()"
   ]
  },
  {
   "cell_type": "markdown",
   "metadata": {},
   "source": [
    "---\n",
    "\n",
    "This sandbox helps visualize geometric recursion and harmonic escape paths.\n",
    "\n",
    "Try stabilizing tensors using `stabilize_spiral_tensor()` or mapping spiral structures to input layers.\n",
    "\n",
    "> Next: `auditor_resonance_map.ipynb` — track ethical drift in φ-chaotic cycles."
   ]
  }
 ],
 "metadata": {
  "kernelspec": {
   "display_name": "Python 3",
   "language": "python",
   "name": "python3"
  },
  "language_info": {
   "name": "python",
   "version": "3.10"
  }
 },
 "nbformat": 4,
 "nbformat_minor": 5
}
