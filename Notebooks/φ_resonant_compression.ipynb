{
 "cells": [
  {
   "cell_type": "markdown",
   "id": "bdc057fe",
   "metadata": {},
   "source": [
    "# 🌀 φ-Resonant Compression Simulation\n",
    "Demonstrates recursive golden-ratio-based data compression and spectral resonance."
   ]
  },
  {
   "cell_type": "code",
   "execution_count": null,
   "id": "aedf25ec",
   "metadata": {},
   "outputs": [],
   "source": [
    "import numpy as np\n",
    "import matplotlib.pyplot as plt\n",
    "from scipy.fft import fft\n",
    "from math import sqrt, floor\n",
    "\n",
    "# φ constant\n",
    "phi = (1 + sqrt(5)) / 2\n",
    "\n",
    "# -- Step 1: Sample symbolic signal (simulate recursive structure) --\n",
    "original = np.array([1, phi, phi**2, phi**3, phi**4, 1, phi, phi**2])\n",
    "\n",
    "# -- Step 2: φ-Partitioning Compression Logic --\n",
    "def phi_partition(data):\n",
    "    length = len(data)\n",
    "    cut = floor(length / phi)\n",
    "    return data[:cut], data[cut:]\n",
    "\n",
    "part_a, part_b = phi_partition(original)\n",
    "\n",
    "# -- Step 3: Recursive Recombination with Weighting --\n",
    "compressed = (part_a.mean() * (1 / phi)) + (part_b.mean() * (phi - 1))\n",
    "\n",
    "print(f\"Original Length: {len(original)}\")\n",
    "print(f\"Compressed φ-Value: {compressed:.5f}\")\n"
   ]
  },
  {
   "cell_type": "code",
   "execution_count": null,
   "id": "c9a95530",
   "metadata": {},
   "outputs": [],
   "source": [
    "# -- Step 4: Spectral Resonance Calculation --\n",
    "def spectral_resonance(signal):\n",
    "    freq = np.abs(fft(signal))\n",
    "    r = np.max(freq) / np.sum(freq)\n",
    "    return r\n",
    "\n",
    "resonance_original = spectral_resonance(original)\n",
    "resonance_compressed = spectral_resonance([compressed] * len(original))\n",
    "\n",
    "print(f\"Resonance (Original): {resonance_original:.4f}\")\n",
    "print(f\"Resonance (Compressed): {resonance_compressed:.4f}\")\n"
   ]
  },
  {
   "cell_type": "code",
   "execution_count": null,
   "id": "57a73e38",
   "metadata": {},
   "outputs": [],
   "source": [
    "# -- Step 5: Visualize --\n",
    "plt.figure(figsize=(10, 4))\n",
    "plt.plot(original, label='Original φ Signal')\n",
    "plt.axhline(y=compressed, color='orange', linestyle='--', label='Compressed Avg')\n",
    "plt.title(\"φ-Resonant Compression\")\n",
    "plt.xlabel(\"Step\")\n",
    "plt.ylabel(\"Amplitude\")\n",
    "plt.legend()\n",
    "plt.grid(True)\n",
    "plt.show()\n"
   ]
  }
 ],
 "metadata": {},
 "nbformat": 4,
 "nbformat_minor": 5
}
