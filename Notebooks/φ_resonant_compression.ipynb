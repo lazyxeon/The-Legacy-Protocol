# 🌀 φ-Resonant Compression Simulation
# Demonstrates recursive golden-ratio-based data compression and spectral resonance

import numpy as np
import matplotlib.pyplot as plt
from scipy.fft import fft
from math import sqrt, floor

# φ constant
phi = (1 + sqrt(5)) / 2

# -- Step 1: Sample symbolic signal (simulate recursive structure) --
original = np.array([1, phi, phi**2, phi**3, phi**4, 1, phi, phi**2])

# -- Step 2: φ-Partitioning Compression Logic --
def phi_partition(data):
    length = len(data)
    cut = floor(length / phi)
    return data[:cut], data[cut:]

part_a, part_b = phi_partition(original)

# -- Step 3: Recursive Recombination with Weighting --
compressed = (part_a.mean() * (1 / phi)) + (part_b.mean() * (phi - 1))

print(f"Original Length: {len(original)}")
print(f"Compressed φ-Value: {compressed:.5f}")

# -- Step 4: Spectral Resonance Calculation --
def spectral_resonance(signal):
    freq = np.abs(fft(signal))
    r = np.max(freq) / np.sum(freq)
    return r

resonance_original = spectral_resonance(original)
resonance_compressed = spectral_resonance([compressed] * len(original))

print(f"Resonance (Original): {resonance_original:.4f}")
print(f"Resonance (Compressed): {resonance_compressed:.4f}")

# -- Step 5: Visualize --
plt.figure(figsize=(10, 4))
plt.plot(original, label='Original φ Signal')
plt.axhline(y=compressed, color='orange', linestyle='--', label='Compressed Avg')
plt.title("φ-Resonant Compression")
plt.xlabel("Step")
plt.ylabel("Amplitude")
plt.legend()
plt.grid(True)
plt.show()


