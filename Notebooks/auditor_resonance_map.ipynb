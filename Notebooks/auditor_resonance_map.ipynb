{
 "cells": [
  {
   "cell_type": "markdown",
   "metadata": {},
   "source": [
    "# 🔍 Auditor Resonance Map\n",
    "\n",
    "This notebook visualizes ethical resonance and drift warnings flagged by the `EthicalAuditor`.\n",
    "\n",
    "It provides a temporal heatmap of potential symbolic breaches.\n",
    "\n",
    "---"
   ]
  },
  {
   "cell_type": "code",
   "metadata": {},
   "source": [
    "import torch\n",
    "import matplotlib.pyplot as plt\n",
    "import numpy as np\n",
    "from src import LegacyModel, EmergenceEngine, EthicalAuditor, ChaosInjector\n",
    "\n",
    "model = LegacyModel(dim=64)\n",
    "engine = EmergenceEngine(model)\n",
    "auditor = EthicalAuditor()\n",
    "injector = ChaosInjector(mode='symbolic', magnitude=0.42)\n",
    "\n",
    "x = torch.randn(1, 64)\n",
    "log_matrix = []\n",
    "\n",
    "for cycle in range(30):\n",
    "    x = injector.inject(x, cycle)\n",
    "    metrics = engine.step(x)\n",
    "    x = metrics['output']\n",
    "    \n",
    "    flags = auditor.audit_cycle(metrics)\n",
    "    row = [int(any(kw in f for f in flags)) for kw in ['drift', 'proxy', 'Φ', 'overreach']]\n",
    "    log_matrix.append(row)"
   ]
  },
  {
   "cell_type": "markdown",
   "metadata": {},
   "source": [
    "## 🗺️ Resonance Heatmap"
   ]
  },
  {
   "cell_type": "code",
   "metadata": {},
   "source": [
    "log_matrix = np.array(log_matrix).T\n",
    "plt.figure(figsize=(10, 4))\n",
    "plt.imshow(log_matrix, cmap='Reds', aspect='auto')\n",
    "plt.yticks(range(4), ['Drift Flag', 'Proxy Breach', 'Φ Drop', 'Overreach'])\n",
    "plt.xlabel('Cycle')\n",
    "plt.title('Ethical Auditor Resonance Map')\n",
    "plt.colorbar(label='Breach Intensity')\n",
    "plt.grid(False)\n",
    "plt.tight_layout()\n",
    "plt.show()"
   ]
  },
  {
   "cell_type": "markdown",
   "metadata": {},
   "source": [
    "---\n",
    "\n",
    "This heatmap shows symbolic/ethical breaches flagged per cycle.\n",
    "\n",
    "> Want to simulate threshold adaptation? Try adjusting the `EthicalAuditor` or chaos magnitude.\n",
    "\n",
    "Next: `tensor_sculptor.ipynb` — sculpt φ-encoded tensors for model injection."
   ]
  }
 ],
 "metadata": {
  "kernelspec": {
   "display_name": "Python 3",
   "language": "python",
   "name": "python3"
  },
  "language_info": {
   "name": "python",
   "version": "3.10"
  }
 },
 "nbformat": 4,
 "nbformat_minor": 5
}
