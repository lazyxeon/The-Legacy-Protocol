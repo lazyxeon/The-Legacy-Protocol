{
 "cells": [
  {
   "cell_type": "markdown",
   "metadata": {},
   "source": [
    "# 🌪️ Chaos Perturbation Test\n",
    "\n",
    "This notebook explores how φ-aligned symbolic systems respond to structured entropy injections using the `ChaosInjector` and `EmergenceEngine`.\n",
    "\n",
    "We monitor how chaos affects Φ, Proxy Score, and Entropy Drift across cycles.\n",
    "\n",
    "---"
   ]
  },
  {
   "cell_type": "code",
   "metadata": {},
   "source": [
    "import torch\n",
    "import matplotlib.pyplot as plt\n",
    "from src import LegacyModel, EmergenceEngine, ChaosInjector\n",
    "\n",
    "model = LegacyModel(dim=64)\n",
    "engine = EmergenceEngine(model)\n",
    "injector = ChaosInjector(mode='waveform', magnitude=0.33)\n",
    "\n",
    "x = torch.randn(1, 64)\n",
    "phi_vals, proxy_vals, drift_vals = [], [], []\n",
    "\n",
    "for cycle in range(1, 16):\n",
    "    x = injector.inject(x, cycle)\n",
    "    metrics = engine.step(x)\n",
    "    x = metrics['output']\n",
    "\n",
    "    phi_vals.append(metrics['phi'])\n",
    "    proxy_vals.append(metrics['proxy_score'])\n",
    "    drift_vals.append(metrics['drift'])"
   ]
  },
  {
   "cell_type": "markdown",
   "metadata": {},
   "source": [
    "## 📈 Chaos Injection Impact"
   ]
  },
  {
   "cell_type": "code",
   "metadata": {},
   "source": [
    "plt.figure(figsize=(12, 5))\n",
    "plt.plot(phi_vals, label='Φ (Integrated Info)')\n",
    "plt.plot(proxy_vals, label='Proxy Score')\n",
    "plt.plot(drift_vals, label='Entropy Drift')\n",
    "plt.title('Chaos Injection Effects on Symbolic Metrics')\n",
    "plt.xlabel('Cycle')\n",
    "plt.ylabel('Score')\n",
    "plt.legend()\n",
    "plt.grid(True)\n",
    "plt.show()"
   ]
  },
  {
   "cell_type": "markdown",
   "metadata": {},
   "source": [
    "---\n",
    "\n",
    "This notebook helps visualize resilience and emergence behavior under structured entropy.\n",
    "\n",
    "Try varying the magnitude, cycle seed, or switching chaos modes.\n",
    "\n",
    "> Next up: `spiral_sandbox.ipynb` — experiment with Kryst Spirals & φ dynamics"
   ]
  }
 ],
 "metadata": {
  "kernelspec": {
   "display_name": "Python 3",
   "language": "python",
   "name": "python3"
  },
  "language_info": {
   "name": "python",
   "version": "3.10"
  }
 },
 "nbformat": 4,
 "nbformat_minor": 5
}
